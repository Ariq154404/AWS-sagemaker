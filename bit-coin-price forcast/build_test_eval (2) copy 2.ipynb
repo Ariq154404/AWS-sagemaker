{
 "cells": [
  {
   "cell_type": "code",
   "execution_count": 1,
   "id": "4fcda75e",
   "metadata": {
    "execution": {
     "iopub.execute_input": "2022-09-27T14:09:21.580209Z",
     "iopub.status.busy": "2022-09-27T14:09:21.578831Z",
     "iopub.status.idle": "2022-09-27T14:09:42.645082Z",
     "shell.execute_reply": "2022-09-27T14:09:42.645448Z"
    }
   },
   "outputs": [],
   "source": [
    "import time\n",
    "import numpy as np\n",
    "import pandas as pd\n",
    "import json\n",
    "import matplotlib.pyplot as plt\n",
    "import boto3\n",
    "import sagemaker\n",
    "from sagemaker import get_execution_role\n",
    "import io\n",
    "import pickle\n",
    "np.random.seed(1)"
   ]
  },
  {
   "cell_type": "code",
   "execution_count": 2,
   "id": "ff3542e2",
   "metadata": {
    "execution": {
     "iopub.execute_input": "2022-09-27T14:09:42.649899Z",
     "iopub.status.busy": "2022-09-27T14:09:42.649469Z",
     "iopub.status.idle": "2022-09-27T14:09:42.653074Z",
     "shell.execute_reply": "2022-09-27T14:09:42.652694Z"
    }
   },
   "outputs": [],
   "source": [
    "data_length = 20\n",
    "prediction_length = 5"
   ]
  },
  {
   "cell_type": "code",
   "execution_count": 3,
   "id": "7434be7a",
   "metadata": {
    "execution": {
     "iopub.execute_input": "2022-09-27T14:09:42.657217Z",
     "iopub.status.busy": "2022-09-27T14:09:42.656678Z",
     "iopub.status.idle": "2022-09-27T14:09:42.661089Z",
     "shell.execute_reply": "2022-09-27T14:09:42.660728Z"
    }
   },
   "outputs": [
    {
     "name": "stdout",
     "output_type": "stream",
     "text": [
      "3\n"
     ]
    }
   ],
   "source": [
    "print(\"3\")"
   ]
  },
  {
   "cell_type": "code",
   "execution_count": 4,
   "id": "6d11a988",
   "metadata": {
    "execution": {
     "iopub.execute_input": "2022-09-27T14:09:42.672547Z",
     "iopub.status.busy": "2022-09-27T14:09:42.671822Z",
     "iopub.status.idle": "2022-09-27T14:09:43.151640Z",
     "shell.execute_reply": "2022-09-27T14:09:43.151974Z"
    }
   },
   "outputs": [],
   "source": [
    "prefix = \"bit-coin-forecast\"\n",
    "\n",
    "sagemaker_session = sagemaker.Session()\n",
    "role = get_execution_role()\n",
    "bucket = \"bit-coin-data\"\n",
    "\n",
    "s3_data_path = f\"{bucket}/{prefix}/data\"\n",
    "s3_output_path = f\"{bucket}/{prefix}/output\""
   ]
  },
  {
   "cell_type": "code",
   "execution_count": 5,
   "id": "90c28842",
   "metadata": {
    "execution": {
     "iopub.execute_input": "2022-09-27T14:09:43.163785Z",
     "iopub.status.busy": "2022-09-27T14:09:43.162788Z",
     "iopub.status.idle": "2022-09-27T14:09:43.467376Z",
     "shell.execute_reply": "2022-09-27T14:09:43.467918Z"
    }
   },
   "outputs": [],
   "source": [
    "s3 = boto3.client('s3')\n",
    "obj = s3.get_object(Bucket = \"bit-coin-data\",Key = \"bit_data.csv\")\n",
    "df = pd.read_csv(io.BytesIO(obj['Body'].read()))"
   ]
  },
  {
   "cell_type": "code",
   "execution_count": 6,
   "id": "eea29405",
   "metadata": {
    "execution": {
     "iopub.execute_input": "2022-09-27T14:09:43.474500Z",
     "iopub.status.busy": "2022-09-27T14:09:43.473982Z",
     "iopub.status.idle": "2022-09-27T14:09:43.488411Z",
     "shell.execute_reply": "2022-09-27T14:09:43.487956Z"
    }
   },
   "outputs": [
    {
     "data": {
      "text/html": [
       "<div>\n",
       "<style scoped>\n",
       "    .dataframe tbody tr th:only-of-type {\n",
       "        vertical-align: middle;\n",
       "    }\n",
       "\n",
       "    .dataframe tbody tr th {\n",
       "        vertical-align: top;\n",
       "    }\n",
       "\n",
       "    .dataframe thead th {\n",
       "        text-align: right;\n",
       "    }\n",
       "</style>\n",
       "<table border=\"1\" class=\"dataframe\">\n",
       "  <thead>\n",
       "    <tr style=\"text-align: right;\">\n",
       "      <th></th>\n",
       "      <th>Date</th>\n",
       "      <th>Open</th>\n",
       "      <th>High</th>\n",
       "      <th>Low</th>\n",
       "      <th>Close</th>\n",
       "      <th>Adj Close</th>\n",
       "      <th>Volume</th>\n",
       "    </tr>\n",
       "  </thead>\n",
       "  <tbody>\n",
       "    <tr>\n",
       "      <th>0</th>\n",
       "      <td>2014-10-01</td>\n",
       "      <td>387.427002</td>\n",
       "      <td>411.697998</td>\n",
       "      <td>289.295990</td>\n",
       "      <td>338.321014</td>\n",
       "      <td>338.321014</td>\n",
       "      <td>902994450</td>\n",
       "    </tr>\n",
       "    <tr>\n",
       "      <th>1</th>\n",
       "      <td>2014-11-01</td>\n",
       "      <td>338.649994</td>\n",
       "      <td>457.092987</td>\n",
       "      <td>320.626007</td>\n",
       "      <td>378.046997</td>\n",
       "      <td>378.046997</td>\n",
       "      <td>659733360</td>\n",
       "    </tr>\n",
       "    <tr>\n",
       "      <th>2</th>\n",
       "      <td>2014-12-01</td>\n",
       "      <td>378.248993</td>\n",
       "      <td>384.037994</td>\n",
       "      <td>304.231995</td>\n",
       "      <td>320.192993</td>\n",
       "      <td>320.192993</td>\n",
       "      <td>553102310</td>\n",
       "    </tr>\n",
       "    <tr>\n",
       "      <th>3</th>\n",
       "      <td>2015-01-01</td>\n",
       "      <td>320.434998</td>\n",
       "      <td>320.434998</td>\n",
       "      <td>171.509995</td>\n",
       "      <td>217.464005</td>\n",
       "      <td>217.464005</td>\n",
       "      <td>1098811912</td>\n",
       "    </tr>\n",
       "    <tr>\n",
       "      <th>4</th>\n",
       "      <td>2015-02-01</td>\n",
       "      <td>216.867004</td>\n",
       "      <td>265.610992</td>\n",
       "      <td>212.014999</td>\n",
       "      <td>254.263000</td>\n",
       "      <td>254.263000</td>\n",
       "      <td>711518700</td>\n",
       "    </tr>\n",
       "  </tbody>\n",
       "</table>\n",
       "</div>"
      ],
      "text/plain": [
       "         Date        Open        High         Low       Close   Adj Close  \\\n",
       "0  2014-10-01  387.427002  411.697998  289.295990  338.321014  338.321014   \n",
       "1  2014-11-01  338.649994  457.092987  320.626007  378.046997  378.046997   \n",
       "2  2014-12-01  378.248993  384.037994  304.231995  320.192993  320.192993   \n",
       "3  2015-01-01  320.434998  320.434998  171.509995  217.464005  217.464005   \n",
       "4  2015-02-01  216.867004  265.610992  212.014999  254.263000  254.263000   \n",
       "\n",
       "       Volume  \n",
       "0   902994450  \n",
       "1   659733360  \n",
       "2   553102310  \n",
       "3  1098811912  \n",
       "4   711518700  "
      ]
     },
     "execution_count": 6,
     "metadata": {},
     "output_type": "execute_result"
    }
   ],
   "source": [
    "df.head()"
   ]
  },
  {
   "cell_type": "code",
   "execution_count": 7,
   "id": "26d61ae7",
   "metadata": {
    "execution": {
     "iopub.execute_input": "2022-09-27T14:09:43.494467Z",
     "iopub.status.busy": "2022-09-27T14:09:43.494002Z",
     "iopub.status.idle": "2022-09-27T14:09:43.496586Z",
     "shell.execute_reply": "2022-09-27T14:09:43.497075Z"
    }
   },
   "outputs": [],
   "source": [
    "df[\"Date\"]=df[\"Date\"].apply(lambda x: pd.Timestamp(x))"
   ]
  },
  {
   "cell_type": "code",
   "execution_count": 8,
   "id": "e4817c97",
   "metadata": {
    "execution": {
     "iopub.execute_input": "2022-09-27T14:09:43.535004Z",
     "iopub.status.busy": "2022-09-27T14:09:43.530767Z",
     "iopub.status.idle": "2022-09-27T14:09:43.536830Z",
     "shell.execute_reply": "2022-09-27T14:09:43.537296Z"
    }
   },
   "outputs": [],
   "source": [
    "time_series=[]\n",
    "i=0\n",
    "while(i<len(df)):\n",
    "    if i+data_length<len(df):\n",
    "        time_series.append(pd.Series(data=list(df[\"Close\"])[i:i+data_length],index=list(df[\"Date\"])[i:i+data_length]))\n",
    "    i+=1"
   ]
  },
  {
   "cell_type": "code",
   "execution_count": 9,
   "id": "8f78c3ec",
   "metadata": {
    "execution": {
     "iopub.execute_input": "2022-09-27T14:09:43.546886Z",
     "iopub.status.busy": "2022-09-27T14:09:43.546366Z",
     "iopub.status.idle": "2022-09-27T14:09:43.548492Z",
     "shell.execute_reply": "2022-09-27T14:09:43.548954Z"
    }
   },
   "outputs": [],
   "source": [
    "time_series_training = []\n",
    "for ts in time_series:\n",
    "    time_series_training.append(ts[:-prediction_length])"
   ]
  },
  {
   "cell_type": "code",
   "execution_count": 10,
   "id": "dec090f4",
   "metadata": {
    "execution": {
     "iopub.execute_input": "2022-09-27T14:09:43.551833Z",
     "iopub.status.busy": "2022-09-27T14:09:43.551077Z",
     "iopub.status.idle": "2022-09-27T14:09:44.020812Z",
     "shell.execute_reply": "2022-09-27T14:09:44.021291Z"
    }
   },
   "outputs": [
    {
     "data": {
      "image/png": "[encoded data removed]",
      "text/plain": [
       "<Figure size 432x288 with 1 Axes>"
      ]
     },
     "metadata": {
      "needs_background": "light"
     },
     "output_type": "display_data"
    }
   ],
   "source": [
    "time_series[0].plot(label=\"test\")\n",
    "time_series_training[0].plot(label=\"train\", ls=\":\")\n",
    "plt.legend()\n",
    "plt.show()"
   ]
  },
  {
   "cell_type": "code",
   "execution_count": 11,
   "id": "07721fcc",
   "metadata": {
    "execution": {
     "iopub.execute_input": "2022-09-27T14:09:44.026050Z",
     "iopub.status.busy": "2022-09-27T14:09:44.025535Z",
     "iopub.status.idle": "2022-09-27T14:09:44.037673Z",
     "shell.execute_reply": "2022-09-27T14:09:44.038064Z"
    }
   },
   "outputs": [],
   "source": [
    "with open('ground_truth.pkl', 'wb') as file:\n",
    "      pickle.dump(time_series, file)\n"
   ]
  },
  {
   "cell_type": "code",
   "execution_count": 12,
   "id": "e7bf3131",
   "metadata": {
    "execution": {
     "iopub.execute_input": "2022-09-27T14:09:44.041452Z",
     "iopub.status.busy": "2022-09-27T14:09:44.040675Z",
     "iopub.status.idle": "2022-09-27T14:09:44.053497Z",
     "shell.execute_reply": "2022-09-27T14:09:44.054239Z"
    }
   },
   "outputs": [],
   "source": [
    "with open('train.pkl', 'wb') as file:\n",
    "      pickle.dump(time_series_training, file)"
   ]
  },
  {
   "cell_type": "code",
   "execution_count": 13,
   "id": "5803a761",
   "metadata": {
    "execution": {
     "iopub.execute_input": "2022-09-27T14:09:44.060296Z",
     "iopub.status.busy": "2022-09-27T14:09:44.059592Z",
     "iopub.status.idle": "2022-09-27T14:09:44.138493Z",
     "shell.execute_reply": "2022-09-27T14:09:44.138067Z"
    }
   },
   "outputs": [],
   "source": [
    "s3.upload_file(\"ground_truth.pkl\", bucket, prefix + \"/data/output/\" + \"ground_truth.pkl\")"
   ]
  },
  {
   "cell_type": "code",
   "execution_count": 14,
   "id": "4afae69a",
   "metadata": {
    "execution": {
     "iopub.execute_input": "2022-09-27T14:09:44.143292Z",
     "iopub.status.busy": "2022-09-27T14:09:44.142630Z",
     "iopub.status.idle": "2022-09-27T14:09:44.224444Z",
     "shell.execute_reply": "2022-09-27T14:09:44.224032Z"
    }
   },
   "outputs": [],
   "source": [
    "s3.upload_file(\"train.pkl\", bucket, prefix + \"/data/output/\" + \"train.pkl\")"
   ]
  },
  {
   "cell_type": "code",
   "execution_count": null,
   "id": "9655222e",
   "metadata": {},
   "outputs": [],
   "source": []
  }
 ],
 "metadata": {
  "kernelspec": {
   "display_name": "conda_tensorflow2_p38",
   "language": "python",
   "name": "conda_tensorflow2_p38"
  },
  "language_info": {
   "codemirror_mode": {
    "name": "ipython",
    "version": 3
   },
   "file_extension": ".py",
   "mimetype": "text/x-python",
   "name": "python",
   "nbconvert_exporter": "python",
   "pygments_lexer": "ipython3",
   "version": "3.8.12"
  }
 },
 "nbformat": 4,
 "nbformat_minor": 5
}
